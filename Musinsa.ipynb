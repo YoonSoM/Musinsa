{
  "cells": [
    {
      "cell_type": "code",
      "execution_count": null,
      "metadata": {
        "id": "OGzcAw_YSobT"
      },
      "outputs": [],
      "source": [
        "import pandas as pd  # 판다스 : 데이터분석 라이브러리\n",
        "import numpy as np   # 넘파이 : 숫자, 행렬 데이터 라이브러리\n",
        "import requests \n",
        "import re  # 정규표현식"
      ]
    },
    {
      "cell_type": "code",
      "execution_count": null,
      "metadata": {
        "colab": {
          "base_uri": "https://localhost:8080/"
        },
        "id": "xPbcPnx9S5NI",
        "outputId": "c4e74f76-cc84-48fb-a467-2424049cbaf0"
      },
      "outputs": [
        {
          "name": "stdout",
          "output_type": "stream",
          "text": [
            "\r0% [Working]\r            \rHit:1 https://cloud.r-project.org/bin/linux/ubuntu bionic-cran40/ InRelease\n",
            "\r0% [Connecting to archive.ubuntu.com] [Connecting to security.ubuntu.com (185.1\r                                                                               \rIgn:2 https://developer.download.nvidia.com/compute/cuda/repos/ubuntu1804/x86_64  InRelease\n",
            "\r0% [Connecting to archive.ubuntu.com] [Connecting to security.ubuntu.com (185.1\r0% [1 InRelease gpgv 3,626 B] [Connecting to archive.ubuntu.com] [Connecting to\r                                                                               \rIgn:3 https://developer.download.nvidia.com/compute/machine-learning/repos/ubuntu1804/x86_64  InRelease\n",
            "\r0% [1 InRelease gpgv 3,626 B] [Connecting to archive.ubuntu.com] [Connecting to\r                                                                               \rHit:4 https://developer.download.nvidia.com/compute/cuda/repos/ubuntu1804/x86_64  Release\n",
            "Hit:5 https://developer.download.nvidia.com/compute/machine-learning/repos/ubuntu1804/x86_64  Release\n",
            "Hit:6 http://security.ubuntu.com/ubuntu bionic-security InRelease\n",
            "Hit:7 http://ppa.launchpad.net/c2d4u.team/c2d4u4.0+/ubuntu bionic InRelease\n",
            "Hit:8 http://archive.ubuntu.com/ubuntu bionic InRelease\n",
            "Hit:10 http://archive.ubuntu.com/ubuntu bionic-updates InRelease\n",
            "Hit:12 http://ppa.launchpad.net/cran/libgit2/ubuntu bionic InRelease\n",
            "Hit:13 http://archive.ubuntu.com/ubuntu bionic-backports InRelease\n",
            "Hit:14 http://ppa.launchpad.net/deadsnakes/ppa/ubuntu bionic InRelease\n",
            "Hit:15 http://ppa.launchpad.net/graphics-drivers/ppa/ubuntu bionic InRelease\n",
            "Reading package lists... Done\n",
            "Reading package lists... Done\n",
            "Building dependency tree       \n",
            "Reading state information... Done\n",
            "chromium-chromedriver is already the newest version (99.0.4844.84-0ubuntu0.18.04.1).\n",
            "0 upgraded, 0 newly installed, 0 to remove and 94 not upgraded.\n",
            "cp: '/usr/lib/chromium-browser/chromedriver' and '/usr/bin/chromedriver' are the same file\n",
            "Requirement already satisfied: selenium in /usr/local/lib/python3.7/dist-packages (4.1.3)\n",
            "Requirement already satisfied: urllib3[secure,socks]~=1.26 in /usr/local/lib/python3.7/dist-packages (from selenium) (1.26.9)\n",
            "Requirement already satisfied: trio-websocket~=0.9 in /usr/local/lib/python3.7/dist-packages (from selenium) (0.9.2)\n",
            "Requirement already satisfied: trio~=0.17 in /usr/local/lib/python3.7/dist-packages (from selenium) (0.20.0)\n",
            "Requirement already satisfied: sniffio in /usr/local/lib/python3.7/dist-packages (from trio~=0.17->selenium) (1.2.0)\n",
            "Requirement already satisfied: attrs>=19.2.0 in /usr/local/lib/python3.7/dist-packages (from trio~=0.17->selenium) (21.4.0)\n",
            "Requirement already satisfied: idna in /usr/local/lib/python3.7/dist-packages (from trio~=0.17->selenium) (2.10)\n",
            "Requirement already satisfied: outcome in /usr/local/lib/python3.7/dist-packages (from trio~=0.17->selenium) (1.1.0)\n",
            "Requirement already satisfied: async-generator>=1.9 in /usr/local/lib/python3.7/dist-packages (from trio~=0.17->selenium) (1.10)\n",
            "Requirement already satisfied: sortedcontainers in /usr/local/lib/python3.7/dist-packages (from trio~=0.17->selenium) (2.4.0)\n",
            "Requirement already satisfied: wsproto>=0.14 in /usr/local/lib/python3.7/dist-packages (from trio-websocket~=0.9->selenium) (1.1.0)\n",
            "Requirement already satisfied: cryptography>=1.3.4 in /usr/local/lib/python3.7/dist-packages (from urllib3[secure,socks]~=1.26->selenium) (36.0.2)\n",
            "Requirement already satisfied: pyOpenSSL>=0.14 in /usr/local/lib/python3.7/dist-packages (from urllib3[secure,socks]~=1.26->selenium) (22.0.0)\n",
            "Requirement already satisfied: certifi in /usr/local/lib/python3.7/dist-packages (from urllib3[secure,socks]~=1.26->selenium) (2021.10.8)\n",
            "Requirement already satisfied: PySocks!=1.5.7,<2.0,>=1.5.6 in /usr/local/lib/python3.7/dist-packages (from urllib3[secure,socks]~=1.26->selenium) (1.7.1)\n",
            "Requirement already satisfied: cffi>=1.12 in /usr/local/lib/python3.7/dist-packages (from cryptography>=1.3.4->urllib3[secure,socks]~=1.26->selenium) (1.15.0)\n",
            "Requirement already satisfied: pycparser in /usr/local/lib/python3.7/dist-packages (from cffi>=1.12->cryptography>=1.3.4->urllib3[secure,socks]~=1.26->selenium) (2.21)\n",
            "Requirement already satisfied: h11<1,>=0.9.0 in /usr/local/lib/python3.7/dist-packages (from wsproto>=0.14->trio-websocket~=0.9->selenium) (0.13.0)\n",
            "Requirement already satisfied: typing-extensions in /usr/local/lib/python3.7/dist-packages (from h11<1,>=0.9.0->wsproto>=0.14->trio-websocket~=0.9->selenium) (3.10.0.2)\n"
          ]
        }
      ],
      "source": [
        "import sys\n",
        "\n",
        "# install chromium, its driver, and selenium\n",
        "if 'google.colab' in sys.modules:\n",
        "    !apt-get update\n",
        "    !apt install chromium-chromedriver\n",
        "    !cp /usr/lib/chromium-browser/chromedriver /usr/bin\n",
        "    !pip install selenium\n",
        "\n",
        "# set options to be headless, ..\n",
        "from selenium import webdriver\n",
        "from selenium.webdriver.common.by import By\n",
        "from selenium.webdriver.support.ui import WebDriverWait\n",
        "from selenium.webdriver.support import expected_conditions as EC\n",
        "\n",
        "from bs4 import BeautifulSoup\n",
        "import re\n",
        "\n",
        "if 'ipykernel' in sys.modules:\n",
        "    from tqdm.notebook import tqdm\n",
        "else:\n",
        "    from tqdm import tqdm"
      ]
    },
    {
      "cell_type": "code",
      "execution_count": null,
      "metadata": {
        "id": "TqtJHVdm6WU6"
      },
      "outputs": [],
      "source": [
        "options = webdriver.ChromeOptions()\n",
        "options.add_argument('--headless')\n",
        "options.add_argument('--no-sandbox')\n",
        "options.add_argument('--disable-dev-shm-usage')\n",
        "\n",
        "driver = webdriver.Chrome('chromedriver', options=options)"
      ]
    },
    {
      "cell_type": "code",
      "execution_count": null,
      "metadata": {
        "colab": {
          "base_uri": "https://localhost:8080/",
          "height": 242
        },
        "id": "2o162y9MS92v",
        "outputId": "420c7e1e-ab04-4402-e2e1-de0b683f4a6e"
      },
      "outputs": [],
      "source": [
        "import time    # 서버와 통신할 때 중간중간 시간 지연. 보통은 1초\n",
        "from tqdm import tqdm_notebook   # for문 돌릴 때 진행상황을 %게이지로 알려준다.\n",
        "\n",
        "# 워닝 무시\n",
        "import warnings\n",
        "warnings.filterwarnings('ignore')\n",
        "# Step 1. 크롬 웹브라우저 실행\n",
        "# pip install chromedriver_autoinstaller\n",
        "chrome_path = chromedriver_autoinstaller.install()\n",
        "driver = webdriver.Chrome(chrome_path)\n",
        "\n",
        "# 사이트 주소는 네이버\n",
        "driver.get('https:/www.musinsa.com')\n",
        "time.sleep(2)  # 2초간 정지"
      ]
    },
    {
      "cell_type": "code",
      "execution_count": null,
      "metadata": {
        "id": "82l_KYBUTJRv"
      },
      "outputs": [],
      "source": [
        "# 검색어, 검색 기간 정의\n",
        "query_txt = input('1.크롤링할 키워드는 무엇입니까?: ')\n",
        "\n",
        "#검색창  텍스트 제거\n",
        "element = driver.find_element_by_id(\"search_query\")\n",
        "element.clear()\n",
        "\n",
        "# Step 2. 네이버 검색창에 \"검색어\" 검색\n",
        "element.send_keys(query_txt)  # query_txt는 위에서 입력한 키워드\n",
        "element.submit()\n",
        "time.sleep(2)\n",
        "\n",
        "# 첫번째 옷 클릭\n",
        "CSS_tran=\".img-block\"                         \n",
        "driver.find_element_by_css_selector(CSS_tran).click()   # 사진 클릭\n",
        "time.sleep(2)"
      ]
    },
    {
      "cell_type": "code",
      "execution_count": null,
      "metadata": {
        "id": "7-nADjtVTNWe"
      },
      "outputs": [],
      "source": [
        "#팝업창 닫기 1\n",
        "close1 = '.btn.btn-close'\n",
        "driver.find_element_by_css_selector(close1).click()\n",
        "time.sleep(2)\n",
        "driver.execute_script(\"window.scrollTo(0, 8800)\")\n",
        "time.sleep(1)"
      ]
    },
    {
      "cell_type": "code",
      "execution_count": null,
      "metadata": {
        "id": "ZmqI_MpSTQgD"
      },
      "outputs": [],
      "source": [
        "#팝업창 닫기 2\n",
        "close2 = '.Commonstyled__PreviewCloseButton-sc-1uivlpa-3.jOVdaf'\n",
        "driver.find_element_by_css_selector(close2).click()"
      ]
    },
    {
      "cell_type": "code",
      "execution_count": null,
      "metadata": {
        "id": "DQ5xqyvETzTk"
      },
      "outputs": [],
      "source": [
        "user_info = [] # 유저 정보 리스트 ( 키와 몸무게 성별 저장할 리스트 )\n",
        "size_info = [] # 유저 구매 사이즈 리스트 ( 구매자가 구매한 사이즈 리스트 )\n",
        "review_info = []  # 사이즈 평 리스트 ( 사이즈 만족도 리스트 )\n",
        "text_info = [] # 리뷰 글리스트 (리뷰 텍스트 리스트 )\n",
        "star_info = [] # 별점 리스트  ( 별점 리스트 ) \n",
        "size_list = [] # 사이즈 크다 작다 딱 맞다 정보만 추출 ( 추후 설명 ) "
      ]
    },
    {
      "cell_type": "code",
      "execution_count": null,
      "metadata": {
        "id": "1OoyC7r7T3Cu"
      },
      "outputs": [],
      "source": [
        "# 옷 사이즈 정보 \n",
        "        size_in = driver.find_elements_by_css_selector(\".review-goods-information__option-wrap\")\n",
        "    # 유저 정보 \n",
        "        reviews = driver.find_elements_by_css_selector(\".review-profile__body_information\")\n",
        "    # 사이즈 리뷰  \n",
        "        size_re = driver.find_elements_by_css_selector('.review-evaluation__item')\n",
        "    #텍스트 리스트\n",
        "        text_li = driver.find_elements_by_css_selector('.review-contents__text')\n",
        "    # 리뷰 별점(별 width %로 표시) 수집\n",
        "        element = driver.find_elements_by_css_selector('.review-list__rating__active')"
      ]
    },
    {
      "cell_type": "code",
      "execution_count": null,
      "metadata": {
        "id": "3nS5Y0z_T6QY"
      },
      "outputs": [],
      "source": [
        "# 유저 정보 \n",
        "        for user in reviews:\n",
        "            u_info = user.text\n",
        "            user_info.append(u_info)"
      ]
    },
    {
      "cell_type": "code",
      "execution_count": null,
      "metadata": {
        "id": "Y_s4nKuLT-YD"
      },
      "outputs": [],
      "source": [
        "# 옷 사이즈 정보 \n",
        "        for size in size_in:\n",
        "            cl_size = size.text\n",
        "            size_info.append(cl_size[:1])"
      ]
    },
    {
      "cell_type": "code",
      "execution_count": null,
      "metadata": {
        "id": "tAAZxolmUCch"
      },
      "outputs": [],
      "source": [
        "# 사이즈 리뷰  \n",
        "        for s_review in size_re:\n",
        "            s_r = s_review.text\n",
        "            review_info.append(s_r)"
      ]
    },
    {
      "cell_type": "code",
      "execution_count": null,
      "metadata": {
        "id": "CoCX2D3HUFga"
      },
      "outputs": [],
      "source": [
        "# 리뷰 글 \n",
        "        for text in text_li:\n",
        "                    t_li = text.text\n",
        "                    text_info.append(t_li)"
      ]
    },
    {
      "cell_type": "code",
      "execution_count": null,
      "metadata": {
        "id": "jpBmzk9OUQBU"
      },
      "outputs": [],
      "source": [
        "# 리뷰 별점 width로 수집 후, 5점 만점 숫자로 변환하기\n",
        "        for i in range(len(element)):\n",
        "            width = element[i].get_attribute('style')\n",
        "        #print(width)\n",
        "        # 숫자에 따라 별점으로 변환하기\n",
        "            percent_star = int(re.findall('\\d+', width)[0])\n",
        "            percent_star = percent_star*0.05"
      ]
    },
    {
      "cell_type": "code",
      "execution_count": null,
      "metadata": {
        "id": "IM8ot6X1Ukih"
      },
      "outputs": [],
      "source": [
        "# review_info 데이터를 공백기준으로 나눈뒤 fit_list 저장         \n",
        "        for i in review_info[::4]:\n",
        "            a = i.split('\\n')\n",
        "            fit_list.append(a[1])"
      ]
    },
    {
      "cell_type": "code",
      "execution_count": null,
      "metadata": {
        "id": "J88tMXp7UuH4"
      },
      "outputs": [],
      "source": [
        "m = list(range(1,10)) "
      ]
    },
    {
      "cell_type": "code",
      "execution_count": null,
      "metadata": {
        "id": "LhcBy2ngVgSG"
      },
      "outputs": [],
      "source": [
        "for k in tqdm_notebook(list(map(str, m))):\n",
        "    try :\n",
        "    # 옷 사이즈 정보 \n",
        "        size_in = driver.find_elements_by_css_selector(\".review-goods-information__option-wrap\")\n",
        "    # 유저 정보 \n",
        "        reviews = driver.find_elements_by_css_selector(\".review-profile__body_information\")\n",
        "    # 사이즈 리뷰  \n",
        "        size_re = driver.find_elements_by_css_selector('.review-evaluation__item')\n",
        "    #텍스트 리스트\n",
        "        text_li = driver.find_elements_by_css_selector('.review-contents__text')\n",
        "    # 리뷰 별점(별 width %로 표시) 수집\n",
        "        element = driver.find_elements_by_css_selector('.review-list__rating__active')\n",
        "        \n",
        "        # 유저 정보 \n",
        "        for user in reviews:\n",
        "            u_info = user.text\n",
        "            user_info.append(u_info)\n",
        "        # 옷 사이즈 정보 \n",
        "        for size in size_in:\n",
        "            cl_size = size.text\n",
        "            size_info.append(cl_size[:1])\n",
        "        # 사이즈 리뷰  \n",
        "        for s_review in size_re:\n",
        "            s_r = s_review.text\n",
        "            review_info.append(s_r)\n",
        "            \n",
        "# 리뷰 별점 width로 수집 후, 5점 만점 숫자로 변환하기\n",
        "        for i in range(len(element)):\n",
        "            width = element[i].get_attribute('style')\n",
        "        #print(width)\n",
        "        # 숫자에 따라 별점으로 변환하기\n",
        "            percent_star = int(re.findall('\\d+', width)[0])\n",
        "            percent_star = percent_star*0.05\n",
        "            star_info.append(percent_star)\n",
        "# 리뷰 글 \n",
        "        for text in text_li:\n",
        "            t_li = text.text\n",
        "            text_info.append(t_li)\n",
        "            \n",
        "        if int(k) % 5 == 0: \n",
        "            driver.find_element_by_xpath('//*[@id=\"reviewListFragment\"]/div[11]/div[2]/div/a[8]').click()\n",
        "            \n",
        "        driver.find_element_by_link_text(k).click()\n",
        "        time.sleep(7)\n",
        "        \n",
        "    except:\n",
        "        driver.find_element_by_link_text(k).click()\n",
        "        time.sleep(7)"
      ]
    }
  ],
  "metadata": {
    "colab": {
      "collapsed_sections": [],
      "name": "무신사.ipynb",
      "provenance": []
    },
    "kernelspec": {
      "display_name": "Python 3",
      "name": "python3"
    },
    "language_info": {
      "name": "python"
    }
  },
  "nbformat": 4,
  "nbformat_minor": 0
}
